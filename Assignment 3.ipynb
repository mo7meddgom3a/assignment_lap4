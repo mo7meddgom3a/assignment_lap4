{
 "cells": [
  {
   "cell_type": "markdown",
   "id": "2f437526",
   "metadata": {},
   "source": [
    "# 1 -"
   ]
  },
  {
   "cell_type": "code",
   "execution_count": 8,
   "id": "c7155a37",
   "metadata": {},
   "outputs": [
    {
     "data": {
      "text/plain": [
       "21"
      ]
     },
     "execution_count": 8,
     "metadata": {},
     "output_type": "execute_result"
    }
   ],
   "source": [
    "def Fibonacci (num):\n",
    "    \n",
    "    if num in {0,1}:\n",
    "        return num\n",
    "    elif num < 0 :\n",
    "        print (\"enter positive num\")\n",
    "        \n",
    "    else :\n",
    "        return Fibonacci(num-1) + Fibonacci(num-2)\n",
    "   \n",
    "Fibonacci(8)"
   ]
  },
  {
   "cell_type": "markdown",
   "id": "e6f96345",
   "metadata": {},
   "source": [
    "# 2 -"
   ]
  },
  {
   "cell_type": "code",
   "execution_count": 7,
   "id": "3d72cbca",
   "metadata": {},
   "outputs": [
    {
     "data": {
      "text/plain": [
       "{'red': 3, 'blue': 1, 'black': 2}"
      ]
     },
     "execution_count": 7,
     "metadata": {},
     "output_type": "execute_result"
    }
   ],
   "source": [
    "def unique_words_and_count (val):\n",
    "    val_count = {}\n",
    "    for i  in val:\n",
    "        val_count[i] = val.count(i)\n",
    "    return val_count\n",
    "unique_words_and_count([\"red\",\"blue\",\"black\",\"red\",\"red\",\"black\"])"
   ]
  },
  {
   "cell_type": "markdown",
   "id": "39739b81",
   "metadata": {},
   "source": [
    "# 3-"
   ]
  },
  {
   "cell_type": "code",
   "execution_count": 17,
   "id": "baaed949",
   "metadata": {},
   "outputs": [
    {
     "data": {
      "text/plain": [
       "[(2, 28), (28, 2)]"
      ]
     },
     "execution_count": 17,
     "metadata": {},
     "output_type": "execute_result"
    }
   ],
   "source": [
    "def find_pairs_of_elements1 (val1,val2):\n",
    "    lst =[]\n",
    "    for i in val1:\n",
    "        num = val2-i\n",
    "        if num in val1:\n",
    "            lst.append(tuple([i]+[num]))\n",
    "    return lst      \n",
    "find_pairs_of_elements1([1,2,3,4,5,30,28,31],30)           "
   ]
  },
  {
   "cell_type": "code",
   "execution_count": 44,
   "id": "67c95a86",
   "metadata": {},
   "outputs": [
    {
     "data": {
      "text/plain": [
       "[(1, 31), (2, 30), (4, 28), (30, 2), (28, 4), (31, 1)]"
      ]
     },
     "execution_count": 44,
     "metadata": {},
     "output_type": "execute_result"
    }
   ],
   "source": [
    "def find_pairs_of_elements2 (val1,val2):\n",
    "    lst =[]\n",
    "    for i in val1:\n",
    "        for j in  val1:\n",
    "            if i + j == val2:\n",
    "                lst.append(tuple([i]+[j]))\n",
    "    return lst      \n",
    "find_pairs_of_elements2([1,2,3,4,5,30,28,31],32)           "
   ]
  },
  {
   "cell_type": "markdown",
   "id": "e043f34b",
   "metadata": {},
   "source": [
    "# 4-"
   ]
  },
  {
   "cell_type": "code",
   "execution_count": 88,
   "id": "fd2389e8",
   "metadata": {},
   "outputs": [
    {
     "data": {
      "text/plain": [
       "(50, 31)"
      ]
     },
     "execution_count": 88,
     "metadata": {},
     "output_type": "execute_result"
    }
   ],
   "source": [
    "def two_numbers_whose_product_is_maximum (val1):\n",
    "    max_1 = 0\n",
    "    max_2 = 0\n",
    "   \n",
    "    for i in range(len(val1)):\n",
    "        for j in  range(i+1,len(val1)):\n",
    "            if   val1[i] * val1[j] > max_1 * max_2 :\n",
    "               \n",
    "                max_1 = val1[i]\n",
    "                max_2 = val1[j]\n",
    "    return(max_1,max_2)      \n",
    "two_numbers_whose_product_is_maximum([1,2,50,3,4,5,30,28,31])"
   ]
  },
  {
   "cell_type": "markdown",
   "id": "d25d7939",
   "metadata": {},
   "source": [
    "# 5-"
   ]
  },
  {
   "cell_type": "code",
   "execution_count": 2,
   "id": "22f32950",
   "metadata": {},
   "outputs": [
    {
     "name": "stdout",
     "output_type": "stream",
     "text": [
      "enter the number :3\n",
      "3 : this number is prime \n"
     ]
    }
   ],
   "source": [
    "def prime_or_not (num):\n",
    "    if num == 1 :\n",
    "        print (num , \": this number i not prime \")\n",
    "    elif num >1:\n",
    "        for i in range(2,num):\n",
    "            if num%i==0:\n",
    "                print (num , \": this number is not prime \")\n",
    "                break\n",
    "            else :\n",
    "                print (num , \": this number is prime \")\n",
    "numm=int(input(\"enter the number :\"))\n",
    "prime_or_not(numm)"
   ]
  },
  {
   "cell_type": "markdown",
   "id": "d0496451",
   "metadata": {},
   "source": [
    "# 6-"
   ]
  },
  {
   "cell_type": "code",
   "execution_count": 4,
   "id": "f143886f",
   "metadata": {},
   "outputs": [
    {
     "name": "stdout",
     "output_type": "stream",
     "text": [
      "the even numbers is\n"
     ]
    },
    {
     "data": {
      "text/plain": [
       "[2, 4, 6, 8]"
      ]
     },
     "execution_count": 4,
     "metadata": {},
     "output_type": "execute_result"
    }
   ],
   "source": [
    "def even (val):\n",
    "    lst = []\n",
    "    for i in val:\n",
    "        if i % 2 == 0:\n",
    "            lst.append(i)\n",
    "    print (\"the even numbers is\")\n",
    "    return lst\n",
    "even([1,2,3,4,5,6,7,8,9])"
   ]
  },
  {
   "cell_type": "markdown",
   "id": "5c9e8bc5",
   "metadata": {},
   "source": [
    "# 7-"
   ]
  },
  {
   "cell_type": "code",
   "execution_count": 20,
   "id": "70744a3b",
   "metadata": {},
   "outputs": [
    {
     "name": "stdout",
     "output_type": "stream",
     "text": [
      "world hello\n"
     ]
    }
   ],
   "source": [
    "def rever (val):\n",
    "    lst = val.split()\n",
    "    print (\" \".join(lst[::-1]))\n",
    "rever(\"hello world\")"
   ]
  },
  {
   "cell_type": "code",
   "execution_count": 21,
   "id": "ac3295ec",
   "metadata": {},
   "outputs": [
    {
     "name": "stdout",
     "output_type": "stream",
     "text": [
      "Educative at work I\n"
     ]
    }
   ],
   "source": [
    "def reverse(str):\n",
    "  # split the string into list of words\n",
    "    words = str.split(' ')\n",
    "    rev_str =[] \n",
    "    for word in words: \n",
    "        rev_str.insert(0, word)\n",
    "    print(\" \".join(rev_str)) \n",
    "\n",
    "reverse(\"I work at Educative\");\n"
   ]
  },
  {
   "cell_type": "markdown",
   "id": "00f26f11",
   "metadata": {},
   "source": [
    "# 8-"
   ]
  },
  {
   "cell_type": "code",
   "execution_count": 38,
   "id": "e3199c19",
   "metadata": {},
   "outputs": [
    {
     "name": "stdout",
     "output_type": "stream",
     "text": [
      "Enter any number : 1234\n",
      "False\n"
     ]
    }
   ],
   "source": [
    "num = input('Enter any number : ')\n",
    "def pli(num):    \n",
    "    if int(num) < 9:\n",
    "        print (\"it's not a valid number\")\n",
    "    elif num == num[::-1]:\n",
    "        print('True')\n",
    "    else:\n",
    "        print('False')\n",
    "pli(num)"
   ]
  },
  {
   "cell_type": "markdown",
   "id": "e3896383",
   "metadata": {},
   "source": [
    "# 9-"
   ]
  },
  {
   "cell_type": "code",
   "execution_count": null,
   "id": "eefa16e4",
   "metadata": {},
   "outputs": [],
   "source": [
    "num = input('Enter any word : ')\n",
    "def plistr(num):    \n",
    "    if num < 9:\n",
    "        print (\"it's not a valid number\")\n",
    "    elif num == num[::-1]:\n",
    "        print('True')\n",
    "    else:\n",
    "        print('False')\n",
    "plistr(num)"
   ]
  },
  {
   "cell_type": "markdown",
   "id": "af6e1064",
   "metadata": {},
   "source": [
    "# 10-"
   ]
  },
  {
   "cell_type": "code",
   "execution_count": 47,
   "id": "39cdfa62",
   "metadata": {},
   "outputs": [
    {
     "name": "stdout",
     "output_type": "stream",
     "text": [
      "[1, 4, 9, 16, 25, 36, 49, 64, 81, 100, 121, 144, 169, 196, 225, 256, 289, 324, 361, 400, 441, 484, 529, 576, 625, 676, 729, 784, 841]\n"
     ]
    }
   ],
   "source": [
    "def printValues():\n",
    "    l = []\n",
    "    for i in range(1,30):\n",
    "        l.append(i**2)\n",
    "    print(l)\n",
    "\n",
    "printValues()"
   ]
  },
  {
   "cell_type": "markdown",
   "id": "37b002dd",
   "metadata": {},
   "source": [
    "# 11-"
   ]
  },
  {
   "cell_type": "code",
   "execution_count": 2,
   "id": "234ab94e",
   "metadata": {},
   "outputs": [
    {
     "data": {
      "text/plain": [
       "[(1, 2, 3), (1, 3, 2), (2, 1, 3), (2, 3, 1), (3, 1, 2), (3, 2, 1)]"
      ]
     },
     "execution_count": 2,
     "metadata": {},
     "output_type": "execute_result"
    }
   ],
   "source": [
    "import itertools\n",
    "list(itertools.permutations([1, 2, 3]))"
   ]
  },
  {
   "cell_type": "code",
   "execution_count": null,
   "id": "1a628205",
   "metadata": {},
   "outputs": [],
   "source": []
  }
 ],
 "metadata": {
  "kernelspec": {
   "display_name": "Python 3 (ipykernel)",
   "language": "python",
   "name": "python3"
  },
  "language_info": {
   "codemirror_mode": {
    "name": "ipython",
    "version": 3
   },
   "file_extension": ".py",
   "mimetype": "text/x-python",
   "name": "python",
   "nbconvert_exporter": "python",
   "pygments_lexer": "ipython3",
   "version": "3.8.8"
  }
 },
 "nbformat": 4,
 "nbformat_minor": 5
}
